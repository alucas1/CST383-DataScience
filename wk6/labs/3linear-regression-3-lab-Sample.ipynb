{
 "cells": [
  {
   "cell_type": "markdown",
   "metadata": {},
   "source": [
    "# Lab 3: Linear regression, part 3"
   ]
  },
  {
   "cell_type": "code",
   "execution_count": 19,
   "metadata": {},
   "outputs": [],
   "source": [
    "import numpy as np\n",
    "import pandas as pd\n",
    "import seaborn as sns\n",
    "import random \n",
    "import matplotlib.pyplot as plt\n",
    "from sklearn.linear_model import LinearRegression\n",
    "from sklearn.model_selection import train_test_split"
   ]
  },
  {
   "cell_type": "code",
   "execution_count": 20,
   "metadata": {},
   "outputs": [],
   "source": [
    "#Load data\n",
    "df = pd.read_csv(\"https://raw.githubusercontent.com/grbruns/cst383/master/machine.csv\")\n",
    "\n",
    "#Reindex and add clock speed column\n",
    "df.index = df['vendor']+' '+df['model']\n",
    "df.drop(['vendor', 'model'], axis=1, inplace=True)\n",
    "df['cs'] = np.round(1e3/df['myct'], 2)\t# clock speed in MHz "
   ]
  },
  {
   "cell_type": "markdown",
   "metadata": {},
   "source": [
    "_2.\tSplit the data randomly into a training set and a test set, using a 70/30 split (70% training data).  Use train_test_split._"
   ]
  },
  {
   "cell_type": "code",
   "execution_count": 21,
   "metadata": {},
   "outputs": [],
   "source": [
    "predictors = ['cach', 'chmin']\n",
    "\n",
    "X = df[predictors].values\n",
    "y=df['prp'].values\n",
    "\n",
    "X_train, X_test, y_train, y_test=train_test_split(X,y,test_size=.30,random_state=42)"
   ]
  },
  {
   "cell_type": "markdown",
   "metadata": {},
   "source": [
    "_3.\tUse LinearRegression to create a linear model to predict performance (feature ‘prp’).  Use a couple of predictor variables of your own choice.  Create the model using your training set_\n"
   ]
  },
  {
   "cell_type": "code",
   "execution_count": 22,
   "metadata": {},
   "outputs": [],
   "source": [
    "#fit the linear model \n",
    "regr=LinearRegression()\n",
    "regr.fit(X_train, y_train)\n",
    "\n",
    "#make predictions\n",
    "predicted=regr.predict(X_test)"
   ]
  },
  {
   "cell_type": "markdown",
   "metadata": {},
   "source": [
    "_4.\tCompute the RMSE of your model on the test data.  Do this manually._"
   ]
  },
  {
   "cell_type": "code",
   "execution_count": 23,
   "metadata": {},
   "outputs": [
    {
     "name": "stdout",
     "output_type": "stream",
     "text": [
      "183.3100575455339\n"
     ]
    }
   ],
   "source": [
    "rmse=np.sqrt(((y_test - predicted)**2).mean())\n",
    "print(rmse)"
   ]
  },
  {
   "cell_type": "code",
   "execution_count": 24,
   "metadata": {},
   "outputs": [
    {
     "name": "stdout",
     "output_type": "stream",
     "text": [
      "Using Simple Linear Regression: 183.31\n",
      "0  coefficient: 1.206\n",
      "1  coefficient: 8.009\n"
     ]
    },
    {
     "data": {
      "text/plain": [
       "LinearRegression()"
      ]
     },
     "execution_count": 24,
     "metadata": {},
     "output_type": "execute_result"
    }
   ],
   "source": [
    "# Feature engineering - Testing polynomial features (pt1), simple linear regression comparison\n",
    "from sklearn.preprocessing import PolynomialFeatures\n",
    "\n",
    "reg = LinearRegression()\n",
    "reg.fit(X_train, y_train)\n",
    "predicted = reg.predict(X_test)\n",
    "rsme = np.sqrt(((predicted - y_test)**2).mean())\n",
    "print('Using Simple Linear Regression: {:.2f}'.format(rsme)) \n",
    "\n",
    "for i in range(len(X[0])):\n",
    "    print(i, ' coefficient: {:.3f}'.format(reg.coef_[i])) "
   ]
  },
  {
   "cell_type": "code",
   "execution_count": 31,
   "metadata": {},
   "outputs": [
    {
     "name": "stdout",
     "output_type": "stream",
     "text": [
      "Using Polynomial Linear Regression: 167.01\n"
     ]
    }
   ],
   "source": [
    "# Feature engineering - Testing polynomial features (pt2), polynomial linear regression comparison\n",
    "predictors = ['cach', 'chmin']\n",
    "X = df[predictors].values\n",
    "\n",
    "# Make a model of polynomial features\n",
    "pf = PolynomialFeatures(degree=2, include_bias=False) \n",
    "pf.fit(X)\n",
    "# Transform X, so it now has many more features\n",
    "X_poly = pf.transform(X)\n",
    "\n",
    "# Split the data\n",
    "X_train2, X_test2, y_train2, y_test2 = train_test_split(X_poly, y, test_size=0.30, random_state=42) \n",
    "reg.fit(X_train2, y_train2)\n",
    "\n",
    "#4.\tPredict prp using your test set, and write your own code to compute the RMSE. \n",
    "predicted2 = reg.predict(X_test2)\n",
    "rsme2 = np.sqrt(((predicted2 - y_test2)**2).mean()) \n",
    "\n",
    "print('Using Polynomial Linear Regression: {:.2f}'.format(rsme2)) "
   ]
  },
  {
   "cell_type": "code",
   "execution_count": 32,
   "metadata": {},
   "outputs": [
    {
     "name": "stdout",
     "output_type": "stream",
     "text": [
      "Using Polynomial Linear Regression: 188.66\n"
     ]
    },
    {
     "data": {
      "image/png": "[encoded data removed]",
      "text/plain": [
       "<Figure size 432x288 with 1 Axes>"
      ]
     },
     "metadata": {
      "needs_background": "light"
     },
     "output_type": "display_data"
    }
   ],
   "source": [
    "#5.\tFor each experiment, I want you to pick some features, transform them in\n",
    "# some way (or not at all), and then build a linear model using the training\n",
    "# data.  Write down the RMSE you get on the test data.  Note: if you transform\n",
    "# ‘prp’, you will need to account for that when you compute RMSE!\n",
    "\n",
    "sns.scatterplot(data=df, x='cs', y='prp')\n",
    "\n",
    "df['cs_2'] = df['cs']**2\n",
    "\n",
    "predictors = ['cs_2']\n",
    "X = df[predictors].values\n",
    "\n",
    "# Make a model of polynomial features\n",
    "pf = PolynomialFeatures(degree=3, include_bias=False) \n",
    "pf.fit(X)\n",
    "# Transform X, so it now has many more features\n",
    "X_poly = pf.transform(X)\n",
    "\n",
    "# Split the data\n",
    "X_train2, X_test2, y_train2, y_test2 = train_test_split(X_poly, y, test_size=0.30, random_state=42) \n",
    "reg.fit(X_train2, y_train2)\n",
    "\n",
    "predicted2 = reg.predict(X_test2)\n",
    "rsme2 = np.sqrt(((predicted2 - y_test2)**2).mean()) \n",
    "\n",
    "print('Using Polynomial Linear Regression: {:.2f}'.format(rsme2)) "
   ]
  },
  {
   "cell_type": "code",
   "execution_count": null,
   "metadata": {},
   "outputs": [],
   "source": []
  }
 ],
 "metadata": {
  "interpreter": {
   "hash": "4f9fc2c1bbe151155d245ae405ab5f850eea2a89eb553799f4b9ed8d8980e96f"
  },
  "kernelspec": {
   "display_name": "Python",
   "name": "python3"
  },
  "language_info": {
   "codemirror_mode": {
    "name": "ipython",
    "version": 3
   },
   "file_extension": ".py",
   "mimetype": "text/x-python",
   "name": "python",
   "nbconvert_exporter": "python",
   "pygments_lexer": "ipython3",
   "version": "3.9.7"
  }
 },
 "nbformat": 4,
 "nbformat_minor": 4
}
