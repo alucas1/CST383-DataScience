{
 "cells": [
  {
   "cell_type": "markdown",
   "metadata": {},
   "source": [
    "# Lab 2: Linear regression, part 2"
   ]
  },
  {
   "cell_type": "code",
   "execution_count": 32,
   "metadata": {},
   "outputs": [],
   "source": [
    "import pandas as pd\n",
    "import numpy as np\n",
    "import seaborn as sns\n",
    "import matplotlib.pyplot as plt\n",
    "from sklearn.linear_model import LinearRegression\n",
    "from sklearn.model_selection import train_test_split\n"
   ]
  },
  {
   "cell_type": "code",
   "execution_count": 33,
   "metadata": {},
   "outputs": [],
   "source": [
    "# Load Data\n",
    "df = pd.read_csv(\"https://raw.githubusercontent.com/grbruns/cst383/master/machine.csv\")\n",
    "\n",
    "# Reindex and add clock speed column\n",
    "df.index = df['vendor']+' '+df['model']\n",
    "df.drop(['vendor', 'model'], axis=1, inplace=True)\n",
    "df['cs'] = np.round(1e3/df['myct'], 2)\t# clock speed in MHz "
   ]
  },
  {
   "cell_type": "markdown",
   "metadata": {},
   "source": [
    "_2.\tCreate NumPy arrays X and y from the data.  The target variable y should come from column 'prp' of df.  For X, choose two other columns of df._"
   ]
  },
  {
   "cell_type": "code",
   "execution_count": 34,
   "metadata": {},
   "outputs": [],
   "source": [
    "#get target variable \n",
    "y = df['prp'].values\n",
    "\n",
    "#get predictors\n",
    "predictors = ['mmin', 'chmax']\n",
    "X=df[predictors].values"
   ]
  },
  {
   "cell_type": "markdown",
   "metadata": {},
   "source": [
    "_3.\tCreate training and test sets using train_test_split().  Use Scikit-Learn's LinearRegression class to create a linear model from X_train and y_train._"
   ]
  },
  {
   "cell_type": "code",
   "execution_count": 39,
   "metadata": {},
   "outputs": [
    {
     "data": {
      "text/plain": [
       "LinearRegression()"
      ]
     },
     "execution_count": 39,
     "metadata": {},
     "output_type": "execute_result"
    }
   ],
   "source": [
    "X_train, X_test, y_train, y_test = train_test_split(X, y, test_size=0.2, random_state=42)\n",
    "reg = LinearRegression()\n",
    "reg.fit(X_train, y_train)"
   ]
  },
  {
   "cell_type": "markdown",
   "metadata": {},
   "source": [
    "_4.\tWhat are the coefficients of your model?_"
   ]
  },
  {
   "cell_type": "code",
   "execution_count": 40,
   "metadata": {},
   "outputs": [
    {
     "name": "stdout",
     "output_type": "stream",
     "text": [
      "mmin: 0.03\n",
      "chmax: 2.47\n"
     ]
    }
   ],
   "source": [
    "print(\"mmin: {:.2f}\".format(reg.coef_[0]))\n",
    "print(\"chmax: {:.2f}\".format(reg.coef_[1]))"
   ]
  },
  {
   "cell_type": "markdown",
   "metadata": {},
   "source": [
    "_5.\tAre both the predictor variables of your model important in predicting ‘prp’?_"
   ]
  },
  {
   "cell_type": "code",
   "execution_count": 41,
   "metadata": {},
   "outputs": [
    {
     "name": "stdout",
     "output_type": "stream",
     "text": [
      "R-squared with both predictors : 0.74\n",
      "R-squared with one predictor : 0.66\n"
     ]
    }
   ],
   "source": [
    "#Accuracy with both predictors:\n",
    "r1 = reg.score(X_train, y_train) \n",
    "print('R-squared with both predictors : {:.2f}'.format(r1))\n",
    "\n",
    "# Test accuracy with only one predictor \n",
    "predictions = ['mmax']\n",
    "target = 'prp'\n",
    "X = df[predictions].values\n",
    "y = df[target].values\n",
    "X_train2, X_test2, y_train2, y_test2 = train_test_split(X, y, test_size=0.30, random_state=42) \n",
    "reg2 = LinearRegression()\n",
    "reg2.fit(X_train2, y_train2)\n",
    "\n",
    "r2 = reg2.score(X_train2, y_train2) \n",
    "print('R-squared with one predictor : {:.2f}'.format(r2))\n",
    "\n",
    "# Yes, both of these predictors used together result in a higher r squared value. "
   ]
  },
  {
   "cell_type": "markdown",
   "metadata": {},
   "source": [
    "_6.\tWhat is the R-squared value for your model?  (Use X_train and y_train to get the R-squared value.)  Did you get a good R-squared value?  What's the best possible R-squared value?_"
   ]
  },
  {
   "cell_type": "code",
   "execution_count": 42,
   "metadata": {},
   "outputs": [
    {
     "name": "stdout",
     "output_type": "stream",
     "text": [
      "R-squared with both predictors : 0.74\n"
     ]
    }
   ],
   "source": [
    "r1 = reg.score(X_train, y_train) \n",
    "print('R-squared with both predictors : {:.2f}'.format(r1))\n",
    "# A good r^2 value is .6 or larger"
   ]
  },
  {
   "cell_type": "markdown",
   "metadata": {},
   "source": [
    "_7.\tProduce a scatterplot in which the predicted prp values are shown on the x axis and the actual prp values are shown on the y axis._"
   ]
  },
  {
   "cell_type": "code",
   "execution_count": 43,
   "metadata": {},
   "outputs": [
    {
     "data": {
      "text/plain": [
       "<AxesSubplot:>"
      ]
     },
     "execution_count": 43,
     "metadata": {},
     "output_type": "execute_result"
    },
    {
     "data": {
      "image/png": "[encoded data removed]",
      "text/plain": [
       "<Figure size 432x288 with 1 Axes>"
      ]
     },
     "metadata": {
      "needs_background": "light"
     },
     "output_type": "display_data"
    }
   ],
   "source": [
    "predicted = reg.predict(X_test)\n",
    "sns.scatterplot(x=predicted, y=y_test)"
   ]
  },
  {
   "cell_type": "markdown",
   "metadata": {},
   "source": [
    "_8.\tRepeat steps 2-7 using a different pair of predictor variables._"
   ]
  },
  {
   "cell_type": "code",
   "execution_count": 44,
   "metadata": {},
   "outputs": [
    {
     "name": "stdout",
     "output_type": "stream",
     "text": [
      "Intercept: 22.30\n",
      "min coefficient: 0.027\n",
      "myct coefficient: -0.026\n",
      "R-squared using score: 0.69\n"
     ]
    },
    {
     "data": {
      "text/plain": [
       "<AxesSubplot:>"
      ]
     },
     "execution_count": 44,
     "metadata": {},
     "output_type": "execute_result"
    },
    {
     "data": {
      "image/png": "[encoded data removed]",
      "text/plain": [
       "<Figure size 432x288 with 1 Axes>"
      ]
     },
     "metadata": {
      "needs_background": "light"
     },
     "output_type": "display_data"
    }
   ],
   "source": [
    "predictions = ['mmin', 'myct']\n",
    "target = 'prp'\n",
    "X = df[predictions].values\n",
    "y = df[target].values\n",
    "\n",
    "X_train1, X_test1, y_train1, y_test1 = train_test_split(X, y, test_size=0.30, random_state=42) \n",
    "reg1 = LinearRegression()\n",
    "reg1.fit(X_train1, y_train1)\n",
    "\n",
    "print('Intercept: {:.2f}'.format(reg1.intercept_)) \n",
    "print('min coefficient: {:.3f}'.format(reg1.coef_[0])) \n",
    "print('myct coefficient: {:.3f}'.format(reg1.coef_[1])) \n",
    "\n",
    "r1 = reg1.score(X_train1, y_train1) \n",
    "print('R-squared using score: {:.2f}'.format(r1))\n",
    "\n",
    "predicted = reg1.predict(X_test1)\n",
    "sns.scatterplot(x=predicted, y=y_test1)"
   ]
  },
  {
   "cell_type": "markdown",
   "metadata": {},
   "source": [
    "_9.\tRepeat steps 2-7 using all predictor variables.  Which predictors appear to be most important?_"
   ]
  },
  {
   "cell_type": "code",
   "execution_count": 45,
   "metadata": {},
   "outputs": [
    {
     "name": "stdout",
     "output_type": "stream",
     "text": [
      "Intercept: -19.53\n",
      "0  coefficient: 0.019\n",
      "1  coefficient: 0.013\n",
      "2  coefficient: 0.004\n",
      "3  coefficient: 0.712\n",
      "4  coefficient: 3.642\n",
      "5  coefficient: 0.031\n",
      "6  coefficient: 0.028\n",
      "R-squared using score: 0.87\n"
     ]
    },
    {
     "data": {
      "text/plain": [
       "<AxesSubplot:>"
      ]
     },
     "execution_count": 45,
     "metadata": {},
     "output_type": "execute_result"
    },
    {
     "data": {
      "image/png": "[encoded data removed]",
      "text/plain": [
       "<Figure size 432x288 with 1 Axes>"
      ]
     },
     "metadata": {
      "needs_background": "light"
     },
     "output_type": "display_data"
    }
   ],
   "source": [
    "predictions = ['myct','mmin', 'mmax', 'cach', 'chmin', 'chmax', 'cs']\n",
    "target = 'prp'\n",
    "X = df[predictions].values\n",
    "y = df[target].values\n",
    "\n",
    "X_train1, X_test1, y_train1, y_test1 = train_test_split(X, y, test_size=0.30, random_state=42) \n",
    "reg1 = LinearRegression()\n",
    "reg1.fit(X_train1, y_train1)\n",
    "\n",
    "print('Intercept: {:.2f}'.format(reg1.intercept_)) \n",
    "\n",
    "for i in range(len(X[0])):\n",
    "    print(i, ' coefficient: {:.3f}'.format(reg1.coef_[i])) \n",
    "\n",
    "r1 = reg1.score(X_train1, y_train1) \n",
    "print('R-squared using score: {:.2f}'.format(r1))\n",
    "\n",
    "predicted = reg1.predict(X_test1)\n",
    "sns.scatterplot(x=predicted, y=y_test1)\n",
    "\n",
    "# It appears that chmin is the most important, given that it has the largest\n",
    "# coefficient associated with it. "
   ]
  },
  {
   "cell_type": "code",
   "execution_count": null,
   "metadata": {},
   "outputs": [],
   "source": []
  }
 ],
 "metadata": {
  "interpreter": {
   "hash": "4f9fc2c1bbe151155d245ae405ab5f850eea2a89eb553799f4b9ed8d8980e96f"
  },
  "kernelspec": {
   "display_name": "Python",
   "name": "python3"
  },
  "language_info": {
   "codemirror_mode": {
    "name": "ipython",
    "version": 3
   },
   "file_extension": ".py",
   "mimetype": "text/x-python",
   "name": "python",
   "nbconvert_exporter": "python",
   "pygments_lexer": "ipython3",
   "version": "3.9.7"
  }
 },
 "nbformat": 4,
 "nbformat_minor": 4
}
