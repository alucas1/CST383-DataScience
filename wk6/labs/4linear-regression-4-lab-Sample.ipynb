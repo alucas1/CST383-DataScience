{
 "cells": [
  {
   "cell_type": "markdown",
   "metadata": {},
   "source": [
    "# Lab 4: Linear regression, tuning models"
   ]
  },
  {
   "cell_type": "code",
   "execution_count": 1,
   "metadata": {},
   "outputs": [],
   "source": [
    "import numpy as np\n",
    "import pandas as pd\n",
    "import seaborn as sns\n",
    "import random \n",
    "import matplotlib.pyplot as plt\n",
    "from sklearn.linear_model import LinearRegression\n",
    "from sklearn.model_selection import train_test_split"
   ]
  },
  {
   "cell_type": "code",
   "execution_count": 3,
   "metadata": {},
   "outputs": [],
   "source": [
    "#Read Data\n",
    "df = pd.read_csv(\"https://raw.githubusercontent.com/grbruns/cst383/master/machine.csv\")\n",
    "\n",
    "#Reindex and add cpu clock speed column\n",
    "df.index = df['vendor']+' '+df['model']\n",
    "df.drop(['vendor', 'model'], axis=1, inplace=True)\n",
    "df['cs'] = np.round(1e3/df['myct'], 2)\t# clock speed in MHz "
   ]
  },
  {
   "cell_type": "markdown",
   "metadata": {},
   "source": [
    "_2.\tSplit the data randomly into a training set and a test set, using a 70/30 split (70% training data).  Use train_test_split._"
   ]
  },
  {
   "cell_type": "code",
   "execution_count": 4,
   "metadata": {},
   "outputs": [],
   "source": [
    "predictors = ['myct','mmin', 'mmax', 'chmax']\n",
    "target = 'prp'\n",
    "\n",
    "X = df[predictors].values\n",
    "y = df[target].values\n",
    "\n",
    "X_train, X_test, y_train, y_test = train_test_split(X, y, test_size=.30, random_state=42)"
   ]
  },
  {
   "cell_type": "markdown",
   "metadata": {},
   "source": [
    "_3.\tUse LinearRegression to create a linear model to predict performance (feature ‘prp’).  Use a couple of predictor variables of your own choice.  Create the model using your training set_\n"
   ]
  },
  {
   "cell_type": "code",
   "execution_count": 5,
   "metadata": {},
   "outputs": [],
   "source": [
    "#fit the linear model \n",
    "regr=LinearRegression()\n",
    "regr.fit(X_train, y_train)\n",
    "\n",
    "#make predictions\n",
    "predicted=regr.predict(X_test)"
   ]
  },
  {
   "cell_type": "markdown",
   "metadata": {},
   "source": [
    "_4.\tCompute the RMSE of your model on the test data.  Do this manually._"
   ]
  },
  {
   "cell_type": "code",
   "execution_count": 6,
   "metadata": {},
   "outputs": [
    {
     "name": "stdout",
     "output_type": "stream",
     "text": [
      "RMSE 1: 107.33\n"
     ]
    }
   ],
   "source": [
    "rmse=np.sqrt(((y_test - predicted)**2).mean())\n",
    "print('RMSE 1: {:.2f}'.format(rmse)) "
   ]
  },
  {
   "cell_type": "markdown",
   "metadata": {},
   "source": [
    "_5.\tRepeat steps 2-4, but this time use new randomly-generated test and training sets.  How much does the RMSE differ?_"
   ]
  },
  {
   "cell_type": "code",
   "execution_count": 7,
   "metadata": {},
   "outputs": [
    {
     "name": "stdout",
     "output_type": "stream",
     "text": [
      "RMSE 2: 68.42\n"
     ]
    }
   ],
   "source": [
    "X_train, X_test, y_train, y_test = train_test_split(X, y, test_size=0.30, random_state=12) \n",
    "\n",
    "regr.fit(X_train, y_train)\n",
    "predicted = regr.predict(X_test)\n",
    "rsme = np.sqrt(((predicted - y_test)**2).mean()) \n",
    "\n",
    "print('RMSE 2: {:.2f}'.format(rsme)) "
   ]
  },
  {
   "cell_type": "markdown",
   "metadata": {},
   "source": [
    "_6.\tIf you have time, write code that will do steps 2-4 100 times, each time creating different training/test sets.  Collect the computed RMSE values, and plot them on a histogram._"
   ]
  },
  {
   "cell_type": "code",
   "execution_count": 8,
   "metadata": {},
   "outputs": [
    {
     "name": "stdout",
     "output_type": "stream",
     "text": [
      "Average:  107.33203010183746\n"
     ]
    }
   ],
   "source": [
    "sum = 0\n",
    "\n",
    "for i in range(100):\n",
    "    X_train, X_test, y_train, y_test = train_test_split(X, y, test_size=0.30, random_state=42) \n",
    "    regr.fit(X_train, y_train)\n",
    "    predicted = regr.predict(X_test)\n",
    "    sum += np.sqrt(((predicted - y_test)**2).mean()) \n",
    "    \n",
    "print('Average: ', sum/100)"
   ]
  }
 ],
 "metadata": {
  "interpreter": {
   "hash": "4f9fc2c1bbe151155d245ae405ab5f850eea2a89eb553799f4b9ed8d8980e96f"
  },
  "kernelspec": {
   "display_name": "Python",
   "name": "python3"
  },
  "language_info": {
   "codemirror_mode": {
    "name": "ipython",
    "version": 3
   },
   "file_extension": ".py",
   "mimetype": "text/x-python",
   "name": "python",
   "nbconvert_exporter": "python",
   "pygments_lexer": "ipython3",
   "version": "3.9.7"
  }
 },
 "nbformat": 4,
 "nbformat_minor": 4
}
