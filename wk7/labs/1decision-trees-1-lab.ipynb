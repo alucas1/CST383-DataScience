{
 "cells": [
  {
   "cell_type": "markdown",
   "metadata": {},
   "source": [
    "#1 - Explain why decision trees are non-parametric models. <br>\n",
    "Decision Trees are non-parametric because we do not know the number of parameters of the model before seeing training data.\n"
   ]
  },
  {
   "cell_type": "code",
   "execution_count": 84,
   "metadata": {},
   "outputs": [],
   "source": [
    "#2 - Load data\n",
    "import numpy as np\n",
    "import pandas as pd\n",
    "import matplotlib.pyplot as plt\n",
    "import seaborn as sns\n",
    "from sklearn.tree import DecisionTreeClassifier, export_graphviz\n",
    "from sklearn.model_selection import train_test_split\n",
    "import graphviz\n",
    "\n",
    "df = pd.read_csv('https://raw.githubusercontent.com/grbruns/cst383/master/College.csv', index_col=0)"
   ]
  },
  {
   "cell_type": "code",
   "execution_count": 85,
   "metadata": {},
   "outputs": [],
   "source": [
    "#3 - 3.\tConvert the 'Private' column to an numeric column with values 0 and 1\n",
    "df['Private'] = (df['Private'] == 'Yes').astype(int)"
   ]
  },
  {
   "cell_type": "code",
   "execution_count": 86,
   "metadata": {},
   "outputs": [
    {
     "data": {
      "text/plain": [
       "<bound method DataFrame.info of                                 Private   Apps  Accept  Enroll  Top10perc  \\\n",
       "Abilene Christian University          1   1660    1232     721         23   \n",
       "Adelphi University                    1   2186    1924     512         16   \n",
       "Adrian College                        1   1428    1097     336         22   \n",
       "Agnes Scott College                   1    417     349     137         60   \n",
       "Alaska Pacific University             1    193     146      55         16   \n",
       "...                                 ...    ...     ...     ...        ...   \n",
       "Worcester State College               0   2197    1515     543          4   \n",
       "Xavier University                     1   1959    1805     695         24   \n",
       "Xavier University of Louisiana        1   2097    1915     695         34   \n",
       "Yale University                       1  10705    2453    1317         95   \n",
       "York College of Pennsylvania          1   2989    1855     691         28   \n",
       "\n",
       "                                Top25perc  F.Undergrad  P.Undergrad  Outstate  \\\n",
       "Abilene Christian University           52         2885          537      7440   \n",
       "Adelphi University                     29         2683         1227     12280   \n",
       "Adrian College                         50         1036           99     11250   \n",
       "Agnes Scott College                    89          510           63     12960   \n",
       "Alaska Pacific University              44          249          869      7560   \n",
       "...                                   ...          ...          ...       ...   \n",
       "Worcester State College                26         3089         2029      6797   \n",
       "Xavier University                      47         2849         1107     11520   \n",
       "Xavier University of Louisiana         61         2793          166      6900   \n",
       "Yale University                        99         5217           83     19840   \n",
       "York College of Pennsylvania           63         2988         1726      4990   \n",
       "\n",
       "                                Room.Board  Books  Personal  PhD  Terminal  \\\n",
       "Abilene Christian University          3300    450      2200   70        78   \n",
       "Adelphi University                    6450    750      1500   29        30   \n",
       "Adrian College                        3750    400      1165   53        66   \n",
       "Agnes Scott College                   5450    450       875   92        97   \n",
       "Alaska Pacific University             4120    800      1500   76        72   \n",
       "...                                    ...    ...       ...  ...       ...   \n",
       "Worcester State College               3900    500      1200   60        60   \n",
       "Xavier University                     4960    600      1250   73        75   \n",
       "Xavier University of Louisiana        4200    617       781   67        75   \n",
       "Yale University                       6510    630      2115   96        96   \n",
       "York College of Pennsylvania          3560    500      1250   75        75   \n",
       "\n",
       "                                S.F.Ratio  perc.alumni  Expend  Grad.Rate  \n",
       "Abilene Christian University         18.1           12    7041         60  \n",
       "Adelphi University                   12.2           16   10527         56  \n",
       "Adrian College                       12.9           30    8735         54  \n",
       "Agnes Scott College                   7.7           37   19016         59  \n",
       "Alaska Pacific University            11.9            2   10922         15  \n",
       "...                                   ...          ...     ...        ...  \n",
       "Worcester State College              21.0           14    4469         40  \n",
       "Xavier University                    13.3           31    9189         83  \n",
       "Xavier University of Louisiana       14.4           20    8323         49  \n",
       "Yale University                       5.8           49   40386         99  \n",
       "York College of Pennsylvania         18.1           28    4509         99  \n",
       "\n",
       "[777 rows x 18 columns]>"
      ]
     },
     "execution_count": 86,
     "metadata": {},
     "output_type": "execute_result"
    }
   ],
   "source": [
    "#4 - Do a little exploration of the data to remember what it’s like\n",
    "df.info"
   ]
  },
  {
   "cell_type": "code",
   "execution_count": 87,
   "metadata": {},
   "outputs": [],
   "source": [
    "#5 - We will try to predict whether a college is public or private.  Select a few predictors, create NumPy arrays X and y, and then do a training/test split.  \n",
    "predictors = ['Outstate', 'F.Undergrad']\n",
    "X = df[predictors].values\n",
    "y = df['Private'].values\n",
    "X_train, X_test, y_train, y_test = train_test_split(X, y, test_size=0.30, random_state=0)"
   ]
  },
  {
   "cell_type": "code",
   "execution_count": 88,
   "metadata": {},
   "outputs": [
    {
     "data": {
      "text/plain": [
       "DecisionTreeClassifier(max_depth=2, random_state=0)"
      ]
     },
     "execution_count": 88,
     "metadata": {},
     "output_type": "execute_result"
    }
   ],
   "source": [
    "#6 - Train a tree classifier using Scikit-Learn's DecisionTreeClassifier.  \n",
    "clf = DecisionTreeClassifier(max_depth=2, random_state=0)\n",
    "clf.fit(X_train, y_train)"
   ]
  },
  {
   "cell_type": "code",
   "execution_count": 89,
   "metadata": {},
   "outputs": [
    {
     "data": {
      "image/svg+xml": "<?xml version=\"1.0\" encoding=\"UTF-8\" standalone=\"no\"?>\r\n<!DOCTYPE svg PUBLIC \"-//W3C//DTD SVG 1.1//EN\"\r\n \"http://www.w3.org/Graphics/SVG/1.1/DTD/svg11.dtd\">\r\n<!-- Generated by graphviz version 2.38.0 (20140413.2041)\r\n -->\r\n<!-- Title: Tree Pages: 1 -->\r\n<svg width=\"634pt\" height=\"314pt\"\r\n viewBox=\"0.00 0.00 634.00 314.00\" xmlns=\"http://www.w3.org/2000/svg\" xmlns:xlink=\"http://www.w3.org/1999/xlink\">\r\n<g id=\"graph0\" class=\"graph\" transform=\"scale(1 1) rotate(0) translate(4 310)\">\r\n<title>Tree</title>\r\n<polygon fill=\"white\" stroke=\"none\" points=\"-4,4 -4,-310 630,-310 630,4 -4,4\"/>\r\n<!-- 0 -->\r\n<g id=\"node1\" class=\"node\"><title>0</title>\r\n<path fill=\"#85c2ef\" stroke=\"black\" d=\"M380.5,-306C380.5,-306 248.5,-306 248.5,-306 242.5,-306 236.5,-300 236.5,-294 236.5,-294 236.5,-235 236.5,-235 236.5,-229 242.5,-223 248.5,-223 248.5,-223 380.5,-223 380.5,-223 386.5,-223 392.5,-229 392.5,-235 392.5,-235 392.5,-294 392.5,-294 392.5,-300 386.5,-306 380.5,-306\"/>\r\n<text text-anchor=\"start\" x=\"244.5\" y=\"-290.8\" font-family=\"Helvetica,sans-Serif\" font-size=\"14.00\">F.Undergrad ≤ 2995.0</text>\r\n<text text-anchor=\"start\" x=\"285.5\" y=\"-275.8\" font-family=\"Helvetica,sans-Serif\" font-size=\"14.00\">gini = 0.4</text>\r\n<text text-anchor=\"start\" x=\"254.5\" y=\"-260.8\" font-family=\"Helvetica,sans-Serif\" font-size=\"14.00\">samples = 100.0%</text>\r\n<text text-anchor=\"start\" x=\"254\" y=\"-245.8\" font-family=\"Helvetica,sans-Serif\" font-size=\"14.00\">value = [0.28, 0.72]</text>\r\n<text text-anchor=\"start\" x=\"250\" y=\"-230.8\" font-family=\"Helvetica,sans-Serif\" font-size=\"14.00\">class = F.Undergrad</text>\r\n</g>\r\n<!-- 1 -->\r\n<g id=\"node2\" class=\"node\"><title>1</title>\r\n<path fill=\"#4aa5e7\" stroke=\"black\" d=\"M295,-187C295,-187 174,-187 174,-187 168,-187 162,-181 162,-175 162,-175 162,-116 162,-116 162,-110 168,-104 174,-104 174,-104 295,-104 295,-104 301,-104 307,-110 307,-116 307,-116 307,-175 307,-175 307,-181 301,-187 295,-187\"/>\r\n<text text-anchor=\"start\" x=\"177.5\" y=\"-171.8\" font-family=\"Helvetica,sans-Serif\" font-size=\"14.00\">Outstate ≤ 7425.5</text>\r\n<text text-anchor=\"start\" x=\"201\" y=\"-156.8\" font-family=\"Helvetica,sans-Serif\" font-size=\"14.00\">gini = 0.14</text>\r\n<text text-anchor=\"start\" x=\"178.5\" y=\"-141.8\" font-family=\"Helvetica,sans-Serif\" font-size=\"14.00\">samples = 68.0%</text>\r\n<text text-anchor=\"start\" x=\"174\" y=\"-126.8\" font-family=\"Helvetica,sans-Serif\" font-size=\"14.00\">value = [0.08, 0.92]</text>\r\n<text text-anchor=\"start\" x=\"170\" y=\"-111.8\" font-family=\"Helvetica,sans-Serif\" font-size=\"14.00\">class = F.Undergrad</text>\r\n</g>\r\n<!-- 0&#45;&gt;1 -->\r\n<g id=\"edge1\" class=\"edge\"><title>0&#45;&gt;1</title>\r\n<path fill=\"none\" stroke=\"black\" d=\"M286.744,-222.907C280.663,-214.014 274.164,-204.509 267.889,-195.331\"/>\r\n<polygon fill=\"black\" stroke=\"black\" points=\"270.74,-193.3 262.207,-187.021 264.962,-197.251 270.74,-193.3\"/>\r\n<text text-anchor=\"middle\" x=\"257.592\" y=\"-207.891\" font-family=\"Helvetica,sans-Serif\" font-size=\"14.00\">True</text>\r\n</g>\r\n<!-- 4 -->\r\n<g id=\"node5\" class=\"node\"><title>4</title>\r\n<path fill=\"#f0b890\" stroke=\"black\" d=\"M451.5,-187C451.5,-187 337.5,-187 337.5,-187 331.5,-187 325.5,-181 325.5,-175 325.5,-175 325.5,-116 325.5,-116 325.5,-110 331.5,-104 337.5,-104 337.5,-104 451.5,-104 451.5,-104 457.5,-104 463.5,-110 463.5,-116 463.5,-116 463.5,-175 463.5,-175 463.5,-181 457.5,-187 451.5,-187\"/>\r\n<text text-anchor=\"start\" x=\"333.5\" y=\"-171.8\" font-family=\"Helvetica,sans-Serif\" font-size=\"14.00\">Outstate ≤ 10674.0</text>\r\n<text text-anchor=\"start\" x=\"361\" y=\"-156.8\" font-family=\"Helvetica,sans-Serif\" font-size=\"14.00\">gini = 0.42</text>\r\n<text text-anchor=\"start\" x=\"338.5\" y=\"-141.8\" font-family=\"Helvetica,sans-Serif\" font-size=\"14.00\">samples = 32.0%</text>\r\n<text text-anchor=\"start\" x=\"342\" y=\"-126.8\" font-family=\"Helvetica,sans-Serif\" font-size=\"14.00\">value = [0.7, 0.3]</text>\r\n<text text-anchor=\"start\" x=\"343\" y=\"-111.8\" font-family=\"Helvetica,sans-Serif\" font-size=\"14.00\">class = Outstate</text>\r\n</g>\r\n<!-- 0&#45;&gt;4 -->\r\n<g id=\"edge4\" class=\"edge\"><title>0&#45;&gt;4</title>\r\n<path fill=\"none\" stroke=\"black\" d=\"M342.256,-222.907C348.337,-214.014 354.836,-204.509 361.111,-195.331\"/>\r\n<polygon fill=\"black\" stroke=\"black\" points=\"364.038,-197.251 366.793,-187.021 358.26,-193.3 364.038,-197.251\"/>\r\n<text text-anchor=\"middle\" x=\"371.408\" y=\"-207.891\" font-family=\"Helvetica,sans-Serif\" font-size=\"14.00\">False</text>\r\n</g>\r\n<!-- 2 -->\r\n<g id=\"node3\" class=\"node\"><title>2</title>\r\n<path fill=\"#c2e1f7\" stroke=\"black\" d=\"M133,-68C133,-68 12,-68 12,-68 6,-68 0,-62 0,-56 0,-56 0,-12 0,-12 0,-6 6,-0 12,-0 12,-0 133,-0 133,-0 139,-0 145,-6 145,-12 145,-12 145,-56 145,-56 145,-62 139,-68 133,-68\"/>\r\n<text text-anchor=\"start\" x=\"39\" y=\"-52.8\" font-family=\"Helvetica,sans-Serif\" font-size=\"14.00\">gini = 0.48</text>\r\n<text text-anchor=\"start\" x=\"16.5\" y=\"-37.8\" font-family=\"Helvetica,sans-Serif\" font-size=\"14.00\">samples = 11.2%</text>\r\n<text text-anchor=\"start\" x=\"12\" y=\"-22.8\" font-family=\"Helvetica,sans-Serif\" font-size=\"14.00\">value = [0.41, 0.59]</text>\r\n<text text-anchor=\"start\" x=\"8\" y=\"-7.8\" font-family=\"Helvetica,sans-Serif\" font-size=\"14.00\">class = F.Undergrad</text>\r\n</g>\r\n<!-- 1&#45;&gt;2 -->\r\n<g id=\"edge2\" class=\"edge\"><title>1&#45;&gt;2</title>\r\n<path fill=\"none\" stroke=\"black\" d=\"M174.177,-103.726C159.664,-93.9161 144.201,-83.4644 129.828,-73.7496\"/>\r\n<polygon fill=\"black\" stroke=\"black\" points=\"131.752,-70.8255 121.507,-68.1252 127.832,-76.625 131.752,-70.8255\"/>\r\n</g>\r\n<!-- 3 -->\r\n<g id=\"node4\" class=\"node\"><title>3</title>\r\n<path fill=\"#3c9ee5\" stroke=\"black\" d=\"M296,-68C296,-68 175,-68 175,-68 169,-68 163,-62 163,-56 163,-56 163,-12 163,-12 163,-6 169,-0 175,-0 175,-0 296,-0 296,-0 302,-0 308,-6 308,-12 308,-12 308,-56 308,-56 308,-62 302,-68 296,-68\"/>\r\n<text text-anchor=\"start\" x=\"202\" y=\"-52.8\" font-family=\"Helvetica,sans-Serif\" font-size=\"14.00\">gini = 0.03</text>\r\n<text text-anchor=\"start\" x=\"179.5\" y=\"-37.8\" font-family=\"Helvetica,sans-Serif\" font-size=\"14.00\">samples = 56.7%</text>\r\n<text text-anchor=\"start\" x=\"175\" y=\"-22.8\" font-family=\"Helvetica,sans-Serif\" font-size=\"14.00\">value = [0.01, 0.99]</text>\r\n<text text-anchor=\"start\" x=\"171\" y=\"-7.8\" font-family=\"Helvetica,sans-Serif\" font-size=\"14.00\">class = F.Undergrad</text>\r\n</g>\r\n<!-- 1&#45;&gt;3 -->\r\n<g id=\"edge3\" class=\"edge\"><title>1&#45;&gt;3</title>\r\n<path fill=\"none\" stroke=\"black\" d=\"M234.872,-103.726C234.947,-95.5175 235.026,-86.8595 235.102,-78.56\"/>\r\n<polygon fill=\"black\" stroke=\"black\" points=\"238.604,-78.3312 235.196,-68.2996 231.605,-78.2672 238.604,-78.3312\"/>\r\n</g>\r\n<!-- 5 -->\r\n<g id=\"node6\" class=\"node\"><title>5</title>\r\n<path fill=\"#e78c4b\" stroke=\"black\" d=\"M451,-68C451,-68 338,-68 338,-68 332,-68 326,-62 326,-56 326,-56 326,-12 326,-12 326,-6 332,-0 338,-0 338,-0 451,-0 451,-0 457,-0 463,-6 463,-12 463,-12 463,-56 463,-56 463,-62 457,-68 451,-68\"/>\r\n<text text-anchor=\"start\" x=\"361\" y=\"-52.8\" font-family=\"Helvetica,sans-Serif\" font-size=\"14.00\">gini = 0.15</text>\r\n<text text-anchor=\"start\" x=\"338.5\" y=\"-37.8\" font-family=\"Helvetica,sans-Serif\" font-size=\"14.00\">samples = 22.7%</text>\r\n<text text-anchor=\"start\" x=\"334\" y=\"-22.8\" font-family=\"Helvetica,sans-Serif\" font-size=\"14.00\">value = [0.92, 0.08]</text>\r\n<text text-anchor=\"start\" x=\"343\" y=\"-7.8\" font-family=\"Helvetica,sans-Serif\" font-size=\"14.00\">class = Outstate</text>\r\n</g>\r\n<!-- 4&#45;&gt;5 -->\r\n<g id=\"edge5\" class=\"edge\"><title>4&#45;&gt;5</title>\r\n<path fill=\"none\" stroke=\"black\" d=\"M394.5,-103.726C394.5,-95.5175 394.5,-86.8595 394.5,-78.56\"/>\r\n<polygon fill=\"black\" stroke=\"black\" points=\"398,-78.2996 394.5,-68.2996 391,-78.2996 398,-78.2996\"/>\r\n</g>\r\n<!-- 6 -->\r\n<g id=\"node7\" class=\"node\"><title>6</title>\r\n<path fill=\"#5eafea\" stroke=\"black\" d=\"M614,-68C614,-68 493,-68 493,-68 487,-68 481,-62 481,-56 481,-56 481,-12 481,-12 481,-6 487,-0 493,-0 493,-0 614,-0 614,-0 620,-0 626,-6 626,-12 626,-12 626,-56 626,-56 626,-62 620,-68 614,-68\"/>\r\n<text text-anchor=\"start\" x=\"520\" y=\"-52.8\" font-family=\"Helvetica,sans-Serif\" font-size=\"14.00\">gini = 0.26</text>\r\n<text text-anchor=\"start\" x=\"502\" y=\"-37.8\" font-family=\"Helvetica,sans-Serif\" font-size=\"14.00\">samples = 9.4%</text>\r\n<text text-anchor=\"start\" x=\"493\" y=\"-22.8\" font-family=\"Helvetica,sans-Serif\" font-size=\"14.00\">value = [0.16, 0.84]</text>\r\n<text text-anchor=\"start\" x=\"489\" y=\"-7.8\" font-family=\"Helvetica,sans-Serif\" font-size=\"14.00\">class = F.Undergrad</text>\r\n</g>\r\n<!-- 4&#45;&gt;6 -->\r\n<g id=\"edge6\" class=\"edge\"><title>4&#45;&gt;6</title>\r\n<path fill=\"none\" stroke=\"black\" d=\"M453.706,-103.726C467.817,-94.0078 482.843,-83.6597 496.838,-74.0222\"/>\r\n<polygon fill=\"black\" stroke=\"black\" points=\"499.15,-76.6797 505.4,-68.1252 495.179,-70.9146 499.15,-76.6797\"/>\r\n</g>\r\n</g>\r\n</svg>\r\n",
      "text/plain": [
       "<graphviz.files.Source at 0x28dac080d90>"
      ]
     },
     "execution_count": 89,
     "metadata": {},
     "output_type": "execute_result"
    }
   ],
   "source": [
    "#7 - plot your tree using graphviz.\n",
    "dot_data = export_graphviz(clf, precision=2,\n",
    "                 \tfeature_names=predictors,  \n",
    "                 \tproportion=True,\n",
    "                 \tclass_names=predictors,  \n",
    "                 \tfilled=True, rounded=True,  \n",
    "                 \tspecial_characters=True)\n",
    "\n",
    "\n",
    "graph = graphviz.Source(dot_data)  \n",
    "graph\n",
    " "
   ]
  },
  {
   "cell_type": "code",
   "execution_count": 90,
   "metadata": {},
   "outputs": [
    {
     "name": "stdout",
     "output_type": "stream",
     "text": [
      "Accuracy: 0.9316239316239316\n"
     ]
    },
    {
     "data": {
      "text/plain": [
       "[Text(0, 0.5, 'Public'), Text(0, 1.5, 'Private')]"
      ]
     },
     "execution_count": 90,
     "metadata": {},
     "output_type": "execute_result"
    },
    {
     "data": {
      "image/png": "[encoded data removed]",
      "text/plain": [
       "<Figure size 432x288 with 2 Axes>"
      ]
     },
     "metadata": {
      "needs_background": "light"
     },
     "output_type": "display_data"
    }
   ],
   "source": [
    "#8 - Use your classification tree to predict whether examples in your test data are public or private.  Compute the confusion matrix and the accuracy of your predictions.\n",
    "y_predict = clf.predict(X_test)\n",
    "print(\"Accuracy: \" + str((y_predict == y_test).mean()))\n",
    "\n",
    "from sklearn.metrics import confusion_matrix\n",
    "cf_matrix = confusion_matrix(y_test, y_predict)\n",
    "ax = sns.heatmap(cf_matrix, annot=True, cmap='Blues', fmt='.3g')\n",
    "ax.set_xlabel('\\nPredicted Values')\n",
    "ax.set_ylabel('Actual Values')\n",
    "ax.set_title('Confusion Matrix')\n",
    "\n",
    "## Ticket labels - List must be in alphabetical order\n",
    "ax.xaxis.set_ticklabels(['Public','Private'])\n",
    "ax.yaxis.set_ticklabels(['Public','Private'])"
   ]
  }
 ],
 "metadata": {
  "interpreter": {
   "hash": "348d93889cdc789e6cbe038b88f22de38d4107789a7ffcd22b7fa3c799b7a993"
  },
  "kernelspec": {
   "display_name": "Python 3.9.7 ('base')",
   "language": "python",
   "name": "python3"
  },
  "language_info": {
   "codemirror_mode": {
    "name": "ipython",
    "version": 3
   },
   "file_extension": ".py",
   "mimetype": "text/x-python",
   "name": "python",
   "nbconvert_exporter": "python",
   "pygments_lexer": "ipython3",
   "version": "3.9.7"
  },
  "orig_nbformat": 4
 },
 "nbformat": 4,
 "nbformat_minor": 2
}
